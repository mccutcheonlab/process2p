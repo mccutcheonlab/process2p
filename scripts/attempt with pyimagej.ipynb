{
 "cells": [
  {
   "cell_type": "markdown",
   "id": "1c3bde7c",
   "metadata": {},
   "source": [
    "# to get pyimagej working\n",
    "\n",
    "install pyimagej with pip\n",
    "\n",
    "install JDK from java site\n",
    "\n",
    "install MS C++ Build Tools from https://visualstudio.microsoft.com/visual-cpp-build-tools/\n",
    "\n"
   ]
  },
  {
   "cell_type": "code",
   "execution_count": 2,
   "id": "550ea260",
   "metadata": {},
   "outputs": [
    {
     "ename": "ModuleNotFoundError",
     "evalue": "No module named 'javabridge'",
     "output_type": "error",
     "traceback": [
      "\u001b[1;31m---------------------------------------------------------------------------\u001b[0m",
      "\u001b[1;31mModuleNotFoundError\u001b[0m                       Traceback (most recent call last)",
      "Cell \u001b[1;32mIn[2], line 3\u001b[0m\n\u001b[0;32m      1\u001b[0m \u001b[38;5;28;01mimport\u001b[39;00m \u001b[38;5;21;01mimagej\u001b[39;00m\n\u001b[0;32m      2\u001b[0m \u001b[38;5;28;01mimport\u001b[39;00m \u001b[38;5;21;01mnumpy\u001b[39;00m \u001b[38;5;28;01mas\u001b[39;00m \u001b[38;5;21;01mnp\u001b[39;00m\n\u001b[1;32m----> 3\u001b[0m \u001b[38;5;28;01mimport\u001b[39;00m \u001b[38;5;21;01mjavabridge\u001b[39;00m\n\u001b[0;32m      4\u001b[0m \u001b[38;5;28;01mimport\u001b[39;00m \u001b[38;5;21;01mbioformats\u001b[39;00m\n\u001b[0;32m      5\u001b[0m \u001b[38;5;28;01mfrom\u001b[39;00m \u001b[38;5;21;01mbioformats\u001b[39;00m \u001b[38;5;28;01mimport\u001b[39;00m log4j\n",
      "\u001b[1;31mModuleNotFoundError\u001b[0m: No module named 'javabridge'"
     ]
    }
   ],
   "source": [
    "import imagej\n",
    "import numpy as np\n",
    "import javabridge\n",
    "import bioformats\n",
    "from bioformats import log4j\n",
    "from bioformats import formatreader"
   ]
  },
  {
   "cell_type": "code",
   "execution_count": null,
   "id": "480f9290",
   "metadata": {},
   "outputs": [],
   "source": [
    "# Define the path to your time series image sequence\n",
    "time_series_path = 'path/to/your/time_series.ome.tif'"
   ]
  },
  {
   "cell_type": "code",
   "execution_count": null,
   "id": "d5b28249",
   "metadata": {},
   "outputs": [],
   "source": [
    "def main():\n",
    "    # Start ImageJ\n",
    "    ij = imagej.init('sc.fiji:fiji')  # You can specify the ImageJ distribution you have installed\n",
    "\n",
    "    try:\n",
    "        # Load the time series using Bio-Formats\n",
    "        reader = formatreader.get_image_reader(\"time_series_path\", log4j=log4j, cij=False)\n",
    "        num_slices = reader.rdr.getSeriesCount()\n",
    "        \n",
    "        # Create an empty array to store the maximum Z projection\n",
    "        max_projection = None\n",
    "        \n",
    "        for z in range(num_slices):\n",
    "            # Read a Z-slice\n",
    "            slice_data = reader.read(c=0, z=z, series=0, rescale=False, order='XYCZT')\n",
    "            \n",
    "            if max_projection is None:\n",
    "                max_projection = slice_data\n",
    "            else:\n",
    "                max_projection = np.maximum(max_projection, slice_data)\n",
    "\n",
    "        # Save the maximum Z projection as a new image (optional)\n",
    "        ij.py.to_ij(max_projection)\n",
    "        max_projection.show()\n",
    "\n",
    "    finally:\n",
    "        # Clean up and close ImageJ\n",
    "        reader.close()\n",
    "        ij.py.show('Time Series', max_projection)\n",
    "        javabridge.kill_vm()\n",
    "\n",
    "if __name__ == '__main__':\n",
    "    main()"
   ]
  }
 ],
 "metadata": {
  "kernelspec": {
   "display_name": "Python 3 (ipykernel)",
   "language": "python",
   "name": "python3"
  },
  "language_info": {
   "codemirror_mode": {
    "name": "ipython",
    "version": 3
   },
   "file_extension": ".py",
   "mimetype": "text/x-python",
   "name": "python",
   "nbconvert_exporter": "python",
   "pygments_lexer": "ipython3",
   "version": "3.11.4"
  }
 },
 "nbformat": 4,
 "nbformat_minor": 5
}
